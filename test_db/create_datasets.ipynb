{
 "cells": [
  {
   "cell_type": "code",
   "execution_count": 2,
   "metadata": {},
   "outputs": [],
   "source": [
    "import os\n",
    "import promptim"
   ]
  },
  {
   "cell_type": "code",
   "execution_count": 3,
   "metadata": {},
   "outputs": [],
   "source": [
    "import getpass\n",
    "import os\n",
    "from langsmith import Client \n",
    "\n",
    "# if not os.environ.get(\"LANGSMITH_API_KEY\"):\n",
    "os.environ[\"LANGSMITH_API_KEY\"] = \n",
    "os.environ[\"LANGSMITH_TRACING\"] = \"true\"\n",
    "os.environ[\"LANGSMITH_PROJECT\"]=\"langsmith_project\"\n",
    "os.environ[\"LANGSMITH_ENDPOINT\"]=\"https://api.smith.langchain.com/\"\n",
    "os.environ[\"LANGSMITH_TRACING\"] = \"true\""
   ]
  },
  {
   "cell_type": "code",
   "execution_count": 5,
   "metadata": {},
   "outputs": [
    {
     "ename": "LangSmithNotFoundError",
     "evalue": "Dataset multiclass_email10 not found",
     "output_type": "error",
     "traceback": [
      "\u001b[31m---------------------------------------------------------------------------\u001b[39m",
      "\u001b[31mLangSmithNotFoundError\u001b[39m                    Traceback (most recent call last)",
      "\u001b[36mCell\u001b[39m\u001b[36m \u001b[39m\u001b[32mIn[5]\u001b[39m\u001b[32m, line 3\u001b[39m\n\u001b[32m      1\u001b[39m ls_client = Client(api_key=os.environ[\u001b[33m'\u001b[39m\u001b[33mLANGSMITH_API_KEY\u001b[39m\u001b[33m'\u001b[39m])\n\u001b[32m      2\u001b[39m tmp = ls_client.list_examples(dataset_name= \u001b[33m\"\u001b[39m\u001b[33mmulticlass_email10\u001b[39m\u001b[33m\"\u001b[39m, limit = \u001b[32m300\u001b[39m)\n\u001b[32m----> \u001b[39m\u001b[32m3\u001b[39m \u001b[38;5;28mlen\u001b[39m(\u001b[38;5;28;43mlist\u001b[39;49m\u001b[43m(\u001b[49m\u001b[43mtmp\u001b[49m\u001b[43m)\u001b[49m)\n",
      "\u001b[36mFile \u001b[39m\u001b[32mc:\\Users\\User\\Desktop\\side_project\\prompt_opt\\promptim_env\\Lib\\site-packages\\langsmith\\client.py:4742\u001b[39m, in \u001b[36mClient.list_examples\u001b[39m\u001b[34m(self, dataset_id, dataset_name, example_ids, as_of, splits, inline_s3_urls, offset, limit, metadata, filter, include_attachments, **kwargs)\u001b[39m\n\u001b[32m   4740\u001b[39m     params[\u001b[33m\"\u001b[39m\u001b[33mdataset\u001b[39m\u001b[33m\"\u001b[39m] = dataset_id\n\u001b[32m   4741\u001b[39m \u001b[38;5;28;01melif\u001b[39;00m dataset_name \u001b[38;5;129;01mis\u001b[39;00m \u001b[38;5;129;01mnot\u001b[39;00m \u001b[38;5;28;01mNone\u001b[39;00m:\n\u001b[32m-> \u001b[39m\u001b[32m4742\u001b[39m     dataset_id = \u001b[38;5;28;43mself\u001b[39;49m\u001b[43m.\u001b[49m\u001b[43mread_dataset\u001b[49m\u001b[43m(\u001b[49m\u001b[43mdataset_name\u001b[49m\u001b[43m=\u001b[49m\u001b[43mdataset_name\u001b[49m\u001b[43m)\u001b[49m.id\n\u001b[32m   4743\u001b[39m     params[\u001b[33m\"\u001b[39m\u001b[33mdataset\u001b[39m\u001b[33m\"\u001b[39m] = dataset_id\n\u001b[32m   4744\u001b[39m \u001b[38;5;28;01melse\u001b[39;00m:\n",
      "\u001b[36mFile \u001b[39m\u001b[32mc:\\Users\\User\\Desktop\\side_project\\prompt_opt\\promptim_env\\Lib\\site-packages\\langsmith\\utils.py:138\u001b[39m, in \u001b[36mxor_args.<locals>.decorator.<locals>.wrapper\u001b[39m\u001b[34m(*args, **kwargs)\u001b[39m\n\u001b[32m    132\u001b[39m     invalid_group_names = [\u001b[33m\"\u001b[39m\u001b[33m, \u001b[39m\u001b[33m\"\u001b[39m.join(arg_groups[i]) \u001b[38;5;28;01mfor\u001b[39;00m i \u001b[38;5;129;01min\u001b[39;00m invalid_groups]\n\u001b[32m    133\u001b[39m     \u001b[38;5;28;01mraise\u001b[39;00m \u001b[38;5;167;01mValueError\u001b[39;00m(\n\u001b[32m    134\u001b[39m         \u001b[33m\"\u001b[39m\u001b[33mExactly one argument in each of the following\u001b[39m\u001b[33m\"\u001b[39m\n\u001b[32m    135\u001b[39m         \u001b[33m\"\u001b[39m\u001b[33m groups must be defined:\u001b[39m\u001b[33m\"\u001b[39m\n\u001b[32m    136\u001b[39m         \u001b[33mf\u001b[39m\u001b[33m\"\u001b[39m\u001b[33m \u001b[39m\u001b[38;5;132;01m{\u001b[39;00m\u001b[33m'\u001b[39m\u001b[33m, \u001b[39m\u001b[33m'\u001b[39m.join(invalid_group_names)\u001b[38;5;132;01m}\u001b[39;00m\u001b[33m\"\u001b[39m\n\u001b[32m    137\u001b[39m     )\n\u001b[32m--> \u001b[39m\u001b[32m138\u001b[39m \u001b[38;5;28;01mreturn\u001b[39;00m \u001b[43mfunc\u001b[49m\u001b[43m(\u001b[49m\u001b[43m*\u001b[49m\u001b[43margs\u001b[49m\u001b[43m,\u001b[49m\u001b[43m \u001b[49m\u001b[43m*\u001b[49m\u001b[43m*\u001b[49m\u001b[43mkwargs\u001b[49m\u001b[43m)\u001b[49m\n",
      "\u001b[36mFile \u001b[39m\u001b[32mc:\\Users\\User\\Desktop\\side_project\\prompt_opt\\promptim_env\\Lib\\site-packages\\langsmith\\client.py:3402\u001b[39m, in \u001b[36mClient.read_dataset\u001b[39m\u001b[34m(self, dataset_name, dataset_id)\u001b[39m\n\u001b[32m   3400\u001b[39m \u001b[38;5;28;01mif\u001b[39;00m \u001b[38;5;28misinstance\u001b[39m(result, \u001b[38;5;28mlist\u001b[39m):\n\u001b[32m   3401\u001b[39m     \u001b[38;5;28;01mif\u001b[39;00m \u001b[38;5;28mlen\u001b[39m(result) == \u001b[32m0\u001b[39m:\n\u001b[32m-> \u001b[39m\u001b[32m3402\u001b[39m         \u001b[38;5;28;01mraise\u001b[39;00m ls_utils.LangSmithNotFoundError(\n\u001b[32m   3403\u001b[39m             \u001b[33mf\u001b[39m\u001b[33m\"\u001b[39m\u001b[33mDataset \u001b[39m\u001b[38;5;132;01m{\u001b[39;00mdataset_name\u001b[38;5;132;01m}\u001b[39;00m\u001b[33m not found\u001b[39m\u001b[33m\"\u001b[39m\n\u001b[32m   3404\u001b[39m         )\n\u001b[32m   3405\u001b[39m     \u001b[38;5;28;01mreturn\u001b[39;00m ls_schemas.Dataset(\n\u001b[32m   3406\u001b[39m         **result[\u001b[32m0\u001b[39m],\n\u001b[32m   3407\u001b[39m         _host_url=\u001b[38;5;28mself\u001b[39m._host_url,\n\u001b[32m   3408\u001b[39m         _tenant_id=\u001b[38;5;28mself\u001b[39m._get_optional_tenant_id(),\n\u001b[32m   3409\u001b[39m     )\n\u001b[32m   3410\u001b[39m \u001b[38;5;28;01mreturn\u001b[39;00m ls_schemas.Dataset(\n\u001b[32m   3411\u001b[39m     **result,\n\u001b[32m   3412\u001b[39m     _host_url=\u001b[38;5;28mself\u001b[39m._host_url,\n\u001b[32m   3413\u001b[39m     _tenant_id=\u001b[38;5;28mself\u001b[39m._get_optional_tenant_id(),\n\u001b[32m   3414\u001b[39m )\n",
      "\u001b[31mLangSmithNotFoundError\u001b[39m: Dataset multiclass_email10 not found"
     ]
    }
   ],
   "source": [
    "ls_client = Client(api_key=os.environ['LANGSMITH_API_KEY'])\n",
    "tmp = ls_client.list_examples(dataset_name= \"multiclass_email10\", limit = 300)\n",
    "len(list(tmp))"
   ]
  },
  {
   "cell_type": "code",
   "execution_count": 7,
   "metadata": {},
   "outputs": [],
   "source": [
    "from langsmith import Client \n",
    "import pandas as pd\n",
    "import time\n",
    "\n",
    "DataSetMap = {\n",
    "    \"email_cs\" : \"816b9cfd-e049-4425-b9bf-9835225947a0\",\n",
    "    \"email_cs_10\" : \"45cf669b-4e11-4315-a311-5a59f855df8b\",\n",
    "    \"email_elon\" : \"0cc60f5b-5c37-4020-8d54-88e403a18a9c\"}\n",
    "\n",
    "\n",
    "\n",
    "for dataset_name, parse_id in DataSetMap.items():\n",
    "    len_examples = 0\n",
    "    retry_count = 0\n",
    "    \n",
    "    while len_examples == 0:\n",
    "        retry_count += 1\n",
    "        time.sleep(1)\n",
    "        try:\n",
    "            ls_client = Client(api_key=os.environ['LANGSMITH_API_KEY'])\n",
    "            examples = list(ls_client.list_shared_examples(parse_id) )\n",
    "            len_examples = len(examples)\n",
    "            if retry_count > 10:\n",
    "                break\n",
    "        except Exception as e:\n",
    "            print(e)\n",
    "            break\n",
    "        \n",
    "    if len_examples != 0:\n",
    "        data = []\n",
    "        for example in examples:\n",
    "            # 提取输入和输出\n",
    "            inputs = example.inputs\n",
    "            outputs = example.outputs\n",
    "            # 合并输入和输出\n",
    "            row_data = {**inputs, **outputs}\n",
    "            data.append(row_data)\n",
    "            df = pd.DataFrame(data)\n",
    "            csv_filename = f\"{dataset_name}.csv\"\n",
    "            df.to_csv(csv_filename, index=False)\n",
    "        \n",
    "    #\"dd06b406-c37e-429e-8274-db4e9bc832ef\"))#=dataset_name))"
   ]
  },
  {
   "cell_type": "code",
   "execution_count": 37,
   "metadata": {},
   "outputs": [
    {
     "name": "stdout",
     "output_type": "stream",
     "text": [
      "https://api.smith.langchain.com\n",
      "816b9cfd-e049-4425-b9bf-9835225947a0\n",
      "name='email_cs' description='A dataset of cs emails' data_type=<DataType.kv: 'kv'> id=UUID('dfa5dfd0-140f-49dd-916a-5ae883474b93') created_at=datetime.datetime(2025, 3, 26, 14, 48, 4, 674105, tzinfo=datetime.timezone.utc) modified_at=datetime.datetime(2025, 3, 26, 14, 48, 4, 674105, tzinfo=datetime.timezone.utc) example_count=100 session_count=0 last_session_start_time=None inputs_schema=None outputs_schema=None transformations=None\n"
     ]
    },
    {
     "data": {
      "text/plain": [
       "12"
      ]
     },
     "execution_count": 37,
     "metadata": {},
     "output_type": "execute_result"
    }
   ],
   "source": [
    "tmp = ls_client.clone_public_dataset(\"https://smith.langchain.com/public/816b9cfd-e049-4425-b9bf-9835225947a0/d\")\n",
    "len(list(tmp))"
   ]
  },
  {
   "cell_type": "code",
   "execution_count": null,
   "metadata": {},
   "outputs": [],
   "source": []
  },
  {
   "cell_type": "code",
   "execution_count": null,
   "metadata": {},
   "outputs": [],
   "source": []
  },
  {
   "cell_type": "code",
   "execution_count": null,
   "metadata": {},
   "outputs": [],
   "source": []
  },
  {
   "cell_type": "code",
   "execution_count": null,
   "metadata": {},
   "outputs": [],
   "source": []
  },
  {
   "cell_type": "code",
   "execution_count": 35,
   "metadata": {},
   "outputs": [
    {
     "data": {
      "text/plain": [
       "100"
      ]
     },
     "execution_count": 35,
     "metadata": {},
     "output_type": "execute_result"
    }
   ],
   "source": [
    "ls_client = Client(api_key=os.environ['LANGSMITH_API_KEY'])\n",
    "tmp = ls_client.list_shared_examples(\"816b9cfd-e049-4425-b9bf-9835225947a0\") \n",
    "#tmp = ls_client.read_shared_dataset(\"https://smith.langchain.com/public/816b9cfd-e049-4425-b9bf-9835225947a0/d\")\n",
    "#ls_client.\n",
    "    #\"https://smith.langchain.com/public/c0af3eb3-6f91-47cd-965c-e3bea3140e09/d\")\n",
    "    #\"https://smith.langchain.com/public/816b9cfd-e049-4425-b9bf-9835225947a0/d\")\n",
    "# tmp = ls_client.list_shared_examples(\"c0af3eb3-6f91-47cd-965c-e3bea3140e09\") \n",
    "len(list(tmp))"
   ]
  },
  {
   "cell_type": "code",
   "execution_count": 34,
   "metadata": {},
   "outputs": [
    {
     "data": {
      "text/plain": [
       "[('name', 'abcd test2'),\n",
       " ('description', None),\n",
       " ('data_type', <DataType.kv: 'kv'>),\n",
       " ('id', UUID('6c4e917b-ab71-4399-a815-f877a3dc072a')),\n",
       " ('created_at',\n",
       "  datetime.datetime(2025, 3, 26, 13, 38, 29, 930606, tzinfo=datetime.timezone.utc)),\n",
       " ('modified_at',\n",
       "  datetime.datetime(2025, 3, 26, 13, 38, 29, 930606, tzinfo=datetime.timezone.utc)),\n",
       " ('example_count', 261),\n",
       " ('session_count', 0),\n",
       " ('last_session_start_time', None),\n",
       " ('inputs_schema', None),\n",
       " ('outputs_schema', None),\n",
       " ('transformations', None)]"
      ]
     },
     "execution_count": 34,
     "metadata": {},
     "output_type": "execute_result"
    }
   ],
   "source": [
    "list(tmp)"
   ]
  },
  {
   "cell_type": "code",
   "execution_count": 20,
   "metadata": {},
   "outputs": [
    {
     "data": {
      "text/plain": [
       "[('name', 'email_cs'),\n",
       " ('description', 'A dataset of cs emails'),\n",
       " ('data_type', <DataType.kv: 'kv'>),\n",
       " ('id', UUID('8cc4a637-2ef1-4ec9-b3ea-bb727c40e34b')),\n",
       " ('created_at',\n",
       "  datetime.datetime(2025, 1, 10, 2, 59, 45, 670555, tzinfo=datetime.timezone.utc)),\n",
       " ('modified_at', None),\n",
       " ('example_count', 259),\n",
       " ('session_count', None),\n",
       " ('last_session_start_time', None),\n",
       " ('inputs_schema', None),\n",
       " ('outputs_schema', None),\n",
       " ('transformations', None)]"
      ]
     },
     "execution_count": 20,
     "metadata": {},
     "output_type": "execute_result"
    }
   ],
   "source": [
    "list(tmp)"
   ]
  },
  {
   "cell_type": "code",
   "execution_count": 23,
   "metadata": {},
   "outputs": [
    {
     "name": "stdout",
     "output_type": "stream",
     "text": [
      "https://api.smith.langchain.com\n",
      "816b9cfd-e049-4425-b9bf-9835225947a0\n",
      "name='email_cs' description='A dataset of cs emails' data_type=<DataType.kv: 'kv'> id=UUID('dfa5dfd0-140f-49dd-916a-5ae883474b93') created_at=datetime.datetime(2025, 3, 26, 14, 48, 4, 674105, tzinfo=datetime.timezone.utc) modified_at=datetime.datetime(2025, 3, 26, 14, 48, 4, 674105, tzinfo=datetime.timezone.utc) example_count=100 session_count=0 last_session_start_time=None inputs_schema=None outputs_schema=None transformations=None\n"
     ]
    }
   ],
   "source": [
    "tmp = ls_client.clone_public_dataset(\"https://smith.langchain.com/public/816b9cfd-e049-4425-b9bf-9835225947a0/d\")"
   ]
  },
  {
   "cell_type": "code",
   "execution_count": 24,
   "metadata": {},
   "outputs": [
    {
     "data": {
      "text/plain": [
       "[('name', 'email_cs'),\n",
       " ('description', 'A dataset of cs emails'),\n",
       " ('data_type', <DataType.kv: 'kv'>),\n",
       " ('id', UUID('dfa5dfd0-140f-49dd-916a-5ae883474b93')),\n",
       " ('created_at',\n",
       "  datetime.datetime(2025, 3, 26, 14, 48, 4, 674105, tzinfo=datetime.timezone.utc)),\n",
       " ('modified_at',\n",
       "  datetime.datetime(2025, 3, 26, 14, 48, 4, 674105, tzinfo=datetime.timezone.utc)),\n",
       " ('example_count', 100),\n",
       " ('session_count', 0),\n",
       " ('last_session_start_time', None),\n",
       " ('inputs_schema', None),\n",
       " ('outputs_schema', None),\n",
       " ('transformations', None)]"
      ]
     },
     "execution_count": 24,
     "metadata": {},
     "output_type": "execute_result"
    }
   ],
   "source": [
    "list(tmp)"
   ]
  },
  {
   "cell_type": "code",
   "execution_count": 28,
   "metadata": {},
   "outputs": [
    {
     "name": "stdout",
     "output_type": "stream",
     "text": [
      "https://api.smith.langchain.com\n",
      "816b9cfd-e049-4425-b9bf-9835225947a0\n",
      "name='email_cs' description='A dataset of cs emails' data_type=<DataType.kv: 'kv'> id=UUID('dfa5dfd0-140f-49dd-916a-5ae883474b93') created_at=datetime.datetime(2025, 3, 26, 14, 48, 4, 674105, tzinfo=datetime.timezone.utc) modified_at=datetime.datetime(2025, 3, 26, 14, 48, 4, 674105, tzinfo=datetime.timezone.utc) example_count=100 session_count=0 last_session_start_time=None inputs_schema=None outputs_schema=None transformations=None\n"
     ]
    },
    {
     "data": {
      "text/plain": [
       "[('name', 'email_cs'),\n",
       " ('description', 'A dataset of cs emails'),\n",
       " ('data_type', <DataType.kv: 'kv'>),\n",
       " ('id', UUID('dfa5dfd0-140f-49dd-916a-5ae883474b93')),\n",
       " ('created_at',\n",
       "  datetime.datetime(2025, 3, 26, 14, 48, 4, 674105, tzinfo=datetime.timezone.utc)),\n",
       " ('modified_at',\n",
       "  datetime.datetime(2025, 3, 26, 14, 48, 4, 674105, tzinfo=datetime.timezone.utc)),\n",
       " ('example_count', 100),\n",
       " ('session_count', 0),\n",
       " ('last_session_start_time', None),\n",
       " ('inputs_schema', None),\n",
       " ('outputs_schema', None),\n",
       " ('transformations', None)]"
      ]
     },
     "execution_count": 28,
     "metadata": {},
     "output_type": "execute_result"
    }
   ],
   "source": [
    "tmp = ls_client.clone_public_dataset(\"https://smith.langchain.com/public/816b9cfd-e049-4425-b9bf-9835225947a0/d\")\n",
    "list(tmp)"
   ]
  },
  {
   "cell_type": "code",
   "execution_count": 31,
   "metadata": {},
   "outputs": [
    {
     "name": "stdout",
     "output_type": "stream",
     "text": [
      "https://api.smith.langchain.com\n",
      "35e9e824-486c-43ed-932e-30ea7f852bed\n",
      "name='abcd test2' description=None data_type=<DataType.kv: 'kv'> id=UUID('6c4e917b-ab71-4399-a815-f877a3dc072a') created_at=datetime.datetime(2025, 3, 26, 13, 38, 29, 930606, tzinfo=datetime.timezone.utc) modified_at=datetime.datetime(2025, 3, 26, 13, 38, 29, 930606, tzinfo=datetime.timezone.utc) example_count=261 session_count=0 last_session_start_time=None inputs_schema=None outputs_schema=None transformations=None\n"
     ]
    },
    {
     "data": {
      "text/plain": [
       "[('name', 'abcd test2'),\n",
       " ('description', None),\n",
       " ('data_type', <DataType.kv: 'kv'>),\n",
       " ('id', UUID('6c4e917b-ab71-4399-a815-f877a3dc072a')),\n",
       " ('created_at',\n",
       "  datetime.datetime(2025, 3, 26, 13, 38, 29, 930606, tzinfo=datetime.timezone.utc)),\n",
       " ('modified_at',\n",
       "  datetime.datetime(2025, 3, 26, 13, 38, 29, 930606, tzinfo=datetime.timezone.utc)),\n",
       " ('example_count', 261),\n",
       " ('session_count', 0),\n",
       " ('last_session_start_time', None),\n",
       " ('inputs_schema', None),\n",
       " ('outputs_schema', None),\n",
       " ('transformations', None)]"
      ]
     },
     "execution_count": 31,
     "metadata": {},
     "output_type": "execute_result"
    }
   ],
   "source": [
    "#https://smith.langchain.com/public/\n",
    "\n",
    "tmp = ls_client.clone_public_dataset(\"https://smith.langchain.com/public/35e9e824-486c-43ed-932e-30ea7f852bed/d\")\n",
    "list(tmp)"
   ]
  },
  {
   "cell_type": "code",
   "execution_count": 30,
   "metadata": {},
   "outputs": [
    {
     "data": {
      "text/plain": [
       "[('name', 'abcd test2'),\n",
       " ('description', None),\n",
       " ('data_type', <DataType.kv: 'kv'>),\n",
       " ('id', UUID('6c4e917b-ab71-4399-a815-f877a3dc072a')),\n",
       " ('created_at',\n",
       "  datetime.datetime(2025, 3, 26, 13, 38, 29, 930606, tzinfo=datetime.timezone.utc)),\n",
       " ('modified_at',\n",
       "  datetime.datetime(2025, 3, 26, 13, 38, 29, 930606, tzinfo=datetime.timezone.utc)),\n",
       " ('example_count', 261),\n",
       " ('session_count', 0),\n",
       " ('last_session_start_time', None),\n",
       " ('inputs_schema', None),\n",
       " ('outputs_schema', None),\n",
       " ('transformations', None)]"
      ]
     },
     "execution_count": 30,
     "metadata": {},
     "output_type": "execute_result"
    }
   ],
   "source": [
    "list(tmp)"
   ]
  },
  {
   "cell_type": "code",
   "execution_count": null,
   "metadata": {},
   "outputs": [],
   "source": [
    "ls_client."
   ]
  },
  {
   "cell_type": "code",
   "execution_count": 32,
   "metadata": {},
   "outputs": [],
   "source": [
    "\n",
    "ls_client.create_examples(inputs=[{\"in\": i} for i in range(261)], dataset_id=tmp.id)    \n",
    "    \n",
    "    # \"https://smith.langchain.com/public/c0af3eb3-6f91-47cd-965c-e3bea3140e09/d\").name"
   ]
  },
  {
   "cell_type": "code",
   "execution_count": 39,
   "metadata": {},
   "outputs": [
    {
     "data": {
      "text/plain": [
       "UUID('44a7ef21-9121-4c0b-8890-31ed92c79f72')"
      ]
     },
     "execution_count": 39,
     "metadata": {},
     "output_type": "execute_result"
    }
   ],
   "source": [
    "tmp.id"
   ]
  },
  {
   "cell_type": "code",
   "execution_count": 42,
   "metadata": {},
   "outputs": [
    {
     "data": {
      "text/plain": [
       "0"
      ]
     },
     "execution_count": 42,
     "metadata": {},
     "output_type": "execute_result"
    }
   ],
   "source": []
  },
  {
   "cell_type": "code",
   "execution_count": null,
   "metadata": {},
   "outputs": [],
   "source": []
  },
  {
   "cell_type": "code",
   "execution_count": 7,
   "metadata": {},
   "outputs": [
    {
     "name": "stdout",
     "output_type": "stream",
     "text": [
      "Created dataset 5bd2b1c4-5927-427d-99e0-4a4a347b68fe\n",
      "Loaded 100 examples\n"
     ]
    }
   ],
   "source": [
    "from langsmith import Client\n",
    "\n",
    "\n",
    "c = Client()\n",
    "name = \"abcd test3\"\n",
    "d = c.create_dataset(dataset_name=name)\n",
    "c.create_examples(inputs=[{\"in\": i} for i in range(261)], dataset_id=d.id)\n",
    "print(f\"Created dataset {d.id}\")\n",
    "all_examples = list(c.list_examples(dataset_name=name, limit=100))\n",
    "print(f\"Loaded {len(all_examples)} examples\")\n",
    "# Loaded 300 examples"
   ]
  },
  {
   "cell_type": "code",
   "execution_count": 9,
   "metadata": {},
   "outputs": [
    {
     "data": {
      "text/plain": [
       "261"
      ]
     },
     "execution_count": 9,
     "metadata": {},
     "output_type": "execute_result"
    }
   ],
   "source": [
    "len(list(c.list_examples(dataset_name=name)))"
   ]
  },
  {
   "cell_type": "code",
   "execution_count": 8,
   "metadata": {},
   "outputs": [
    {
     "data": {
      "text/plain": [
       "261"
      ]
     },
     "execution_count": 8,
     "metadata": {},
     "output_type": "execute_result"
    }
   ],
   "source": [
    "len(all_examples)"
   ]
  },
  {
   "cell_type": "code",
   "execution_count": null,
   "metadata": {},
   "outputs": [],
   "source": []
  },
  {
   "cell_type": "code",
   "execution_count": null,
   "metadata": {},
   "outputs": [],
   "source": []
  },
  {
   "cell_type": "code",
   "execution_count": 10,
   "metadata": {},
   "outputs": [
    {
     "data": {
      "text/plain": [
       "0"
      ]
     },
     "execution_count": 10,
     "metadata": {},
     "output_type": "execute_result"
    }
   ],
   "source": [
    "len(list(tmp))"
   ]
  },
  {
   "cell_type": "code",
   "execution_count": 32,
   "metadata": {},
   "outputs": [],
   "source": [
    "from langsmith import utils as ls_utils\n",
    "ls_client = LangSmith(api_key=os.environ['LANGSMITH_API_KEY'])\n",
    "test = list(ls_client.pull_prompt(\"langchain-ai/cs_email:ec65d706\"))\n",
    "\n",
    "\n",
    "\n"
   ]
  },
  {
   "cell_type": "code",
   "execution_count": 33,
   "metadata": {},
   "outputs": [
    {
     "data": {
      "text/plain": [
       "[('name', None),\n",
       " ('input_variables', ['body', 'subject']),\n",
       " ('optional_variables', []),\n",
       " ('input_types', {}),\n",
       " ('output_parser', None),\n",
       " ('partial_variables', {}),\n",
       " ('metadata',\n",
       "  {'lc_hub_owner': 'langchain-ai',\n",
       "   'lc_hub_repo': 'cs_email',\n",
       "   'lc_hub_commit_hash': 'ec65d706f83368d81e9294f0df16c446d52543a16a68e66842d2c4f244436538'}),\n",
       " ('tags', None),\n",
       " ('messages',\n",
       "  [HumanMessagePromptTemplate(prompt=PromptTemplate(input_variables=['body', 'subject'], input_types={}, partial_variables={}, template='Route the following email.\\n\\nSubject: {subject}\\nBody: {body}'), additional_kwargs={})]),\n",
       " ('validate_template', False),\n",
       " ('schema_',\n",
       "  {'title': 'Response',\n",
       "   'description': 'Triage the email',\n",
       "   'type': 'object',\n",
       "   'properties': {'route_to': {'type': 'string',\n",
       "     'description': 'of the email',\n",
       "     'enum': ['ben', 'tom', 'jerry']}},\n",
       "   'required': ['route_to'],\n",
       "   'strict': True,\n",
       "   'additionalProperties': False}),\n",
       " ('structured_output_kwargs', {})]"
      ]
     },
     "execution_count": 33,
     "metadata": {},
     "output_type": "execute_result"
    }
   ],
   "source": [
    "test"
   ]
  },
  {
   "cell_type": "code",
   "execution_count": 54,
   "metadata": {},
   "outputs": [],
   "source": [
    "save_prompt_to_json(test, \"email_cs_simple_prompt_init.json\")"
   ]
  },
  {
   "cell_type": "code",
   "execution_count": 51,
   "metadata": {},
   "outputs": [],
   "source": [
    "import json\n",
    "\n",
    "def save_prompt_to_json(prompt_info, output_file: str = \"prompt_template.json\"):\n",
    "    \"\"\"\n",
    "    将prompt模板信息保存为JSON文件\n",
    "    \n",
    "    Args:\n",
    "        prompt_info: prompt模板信息\n",
    "        output_file: 输出文件名\n",
    "    \"\"\"\n",
    "    # 将元组列表转换为字典\n",
    "    prompt_dict = dict(prompt_info)\n",
    "\n",
    "    # 处理特殊对象\n",
    "    if 'messages' in prompt_dict:\n",
    "        messages = []\n",
    "        for msg in prompt_dict['messages']:\n",
    "            msg_dict = {\n",
    "                'type': msg.__class__.__name__,\n",
    "                'prompt': {\n",
    "                    'input_variables': msg.prompt.input_variables,\n",
    "                    'template': msg.prompt.template\n",
    "                }\n",
    "            }\n",
    "            messages.append(msg_dict)\n",
    "        prompt_dict['messages'] = messages\n",
    "    \n",
    "    # 保存为JSON文件\n",
    "    with open(output_file, 'w', encoding='utf-8') as f:\n",
    "        json.dump(prompt_dict, f, indent=2, ensure_ascii=False)"
   ]
  },
  {
   "cell_type": "code",
   "execution_count": 49,
   "metadata": {},
   "outputs": [
    {
     "data": {
      "text/plain": [
       "[('name', None),\n",
       " ('input_variables', ['problem']),\n",
       " ('optional_variables', []),\n",
       " ('input_types', {}),\n",
       " ('output_parser', None),\n",
       " ('partial_variables', {}),\n",
       " ('metadata',\n",
       "  {'lc_hub_owner': 'langchain-ai',\n",
       "   'lc_hub_repo': 'math_word_problems',\n",
       "   'lc_hub_commit_hash': '47c8c36d5ee00f2bcb32b28344a7d82441655e441c63b3c6ff9ddca6faa183ce'}),\n",
       " ('tags', None),\n",
       " ('messages',\n",
       "  [SystemMessagePromptTemplate(prompt=PromptTemplate(input_variables=[], input_types={}, partial_variables={}, template='You are a helpful assistant.'), additional_kwargs={}),\n",
       "   HumanMessagePromptTemplate(prompt=PromptTemplate(input_variables=['problem'], input_types={}, partial_variables={}, template='{problem}'), additional_kwargs={})]),\n",
       " ('validate_template', False),\n",
       " ('schema_',\n",
       "  {'title': 'submit_answer',\n",
       "   'description': \"Submit the answer to the user's question.\",\n",
       "   'type': 'object',\n",
       "   'properties': {'proof': {'type': 'string',\n",
       "     'description': \"Show your work. It's OK to backtrack if you have trouble.\"},\n",
       "    'answer': {'type': 'string'}},\n",
       "   'required': ['proof', 'answer'],\n",
       "   'strict': True,\n",
       "   'additionalProperties': False}),\n",
       " ('structured_output_kwargs', {})]"
      ]
     },
     "execution_count": 49,
     "metadata": {},
     "output_type": "execute_result"
    }
   ],
   "source": [
    "test"
   ]
  },
  {
   "cell_type": "code",
   "execution_count": 37,
   "metadata": {},
   "outputs": [
    {
     "data": {
      "text/plain": [
       "'https://smith.langchain.com/prompts/tweet-generator-example-with-nothing/latest?organizationId=47dbf50e-84cd-457c-a4ac-3719783578cd'"
      ]
     },
     "execution_count": 37,
     "metadata": {},
     "output_type": "execute_result"
    }
   ],
   "source": [
    "ls_client = LangSmith(api_key=os.environ['LANGSMITH_API_KEY'])\n",
    "ls_client._get_prompt_url(\"tweet-generator-example-with-nothing\")"
   ]
  },
  {
   "cell_type": "code",
   "execution_count": 31,
   "metadata": {},
   "outputs": [
    {
     "name": "stdout",
     "output_type": "stream",
     "text": [
      "Dataset email_cs not found\n",
      "Dataset email_cs_10 not found\n",
      "Dataset email_elon not found\n",
      "Dataset multiclass_email3 not found\n",
      "Dataset extraction-code not found\n"
     ]
    }
   ],
   "source": [
    "from langsmith import Client as LangSmith\n",
    "import pandas as pd\n",
    "import time\n",
    "\n",
    "dataset_name_lst = [\"email_cs\", \n",
    "                    \"email_cs_simple\",\n",
    "                    \"email_cs_10\",\n",
    "                    \"email_elon\",\n",
    "                    \"multiclass_email3\",\n",
    "                    \"extraction-code\"]\n",
    "\n",
    "for dataset_name in dataset_name_lst:\n",
    "    len_examples = 0\n",
    "    retry_count = 0\n",
    "    \n",
    "    while len_examples == 0:\n",
    "        retry_count += 1\n",
    "        time.sleep(1)\n",
    "        try:\n",
    "            ls_client = LangSmith(api_key=os.environ['LANGSMITH_API_KEY'])\n",
    "            examples = list(ls_client.list_examples(dataset_name= dataset_name, limit = 300) )\n",
    "            len_examples = len(examples)\n",
    "            if retry_count > 10:\n",
    "                break\n",
    "        except Exception as e:\n",
    "            print(e)\n",
    "            break\n",
    "        \n",
    "    if len_examples != 0:\n",
    "        data = []\n",
    "        for example in examples:\n",
    "            # 提取输入和输出\n",
    "            inputs = example.inputs\n",
    "            outputs = example.outputs\n",
    "            # 合并输入和输出\n",
    "            row_data = {**inputs, **outputs}\n",
    "            data.append(row_data)\n",
    "            df = pd.DataFrame(data)\n",
    "            csv_filename = f\"{dataset_name}.csv\"\n",
    "            df.to_csv(csv_filename, index=False)\n",
    "        \n",
    "    #\"dd06b406-c37e-429e-8274-db4e9bc832ef\"))#=dataset_name))"
   ]
  },
  {
   "cell_type": "code",
   "execution_count": 6,
   "metadata": {},
   "outputs": [],
   "source": [
    "\n",
    "\n",
    "data = []\n",
    "for example in examples:\n",
    "    # 提取输入和输出\n",
    "    inputs = example.inputs\n",
    "    outputs = example.outputs\n",
    "    # 合并输入和输出\n",
    "    row_data = {**inputs, **outputs}\n",
    "    data.append(row_data)\n",
    "    \n",
    "    df = pd.DataFrame(data)\n",
    "    \n",
    "    csv_filename = f\"{dataset_name}.csv\"\n",
    "    df.to_csv(csv_filename, index=False)"
   ]
  },
  {
   "cell_type": "code",
   "execution_count": null,
   "metadata": {},
   "outputs": [],
   "source": []
  }
 ],
 "metadata": {
  "kernelspec": {
   "display_name": "promptim_env",
   "language": "python",
   "name": "python3"
  },
  "language_info": {
   "codemirror_mode": {
    "name": "ipython",
    "version": 3
   },
   "file_extension": ".py",
   "mimetype": "text/x-python",
   "name": "python",
   "nbconvert_exporter": "python",
   "pygments_lexer": "ipython3",
   "version": "3.12.9"
  }
 },
 "nbformat": 4,
 "nbformat_minor": 2
}
