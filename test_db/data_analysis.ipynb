{
 "cells": [
  {
   "cell_type": "code",
   "execution_count": 1,
   "metadata": {},
   "outputs": [],
   "source": [
    "import pandas as pd"
   ]
  },
  {
   "cell_type": "code",
   "execution_count": 4,
   "metadata": {},
   "outputs": [
    {
     "data": {
      "text/html": [
       "<div>\n",
       "<style scoped>\n",
       "    .dataframe tbody tr th:only-of-type {\n",
       "        vertical-align: middle;\n",
       "    }\n",
       "\n",
       "    .dataframe tbody tr th {\n",
       "        vertical-align: top;\n",
       "    }\n",
       "\n",
       "    .dataframe thead th {\n",
       "        text-align: right;\n",
       "    }\n",
       "</style>\n",
       "<table border=\"1\" class=\"dataframe\">\n",
       "  <thead>\n",
       "    <tr style=\"text-align: right;\">\n",
       "      <th></th>\n",
       "      <th>body</th>\n",
       "      <th>sender</th>\n",
       "      <th>subject</th>\n",
       "      <th>action</th>\n",
       "    </tr>\n",
       "  </thead>\n",
       "  <tbody>\n",
       "    <tr>\n",
       "      <th>0</th>\n",
       "      <td>Dear respected sir/madam,\\n\\nI am writing this...</td>\n",
       "      <td>rajesh.kumar2023@delhi-uni.edu</td>\n",
       "      <td>URGENT!!! Website is not working since 2 hours</td>\n",
       "      <td>respond</td>\n",
       "    </tr>\n",
       "    <tr>\n",
       "      <th>1</th>\n",
       "      <td>Hi Team,\\n\\nI hope this email finds you well. ...</td>\n",
       "      <td>sarah.chen@langchain.com</td>\n",
       "      <td>[Non-Urgent] System Issue: Calendar Sync Delay...</td>\n",
       "      <td>notify</td>\n",
       "    </tr>\n",
       "    <tr>\n",
       "      <th>2</th>\n",
       "      <td>Dear LangChain Team,\\n\\nI hope this email find...</td>\n",
       "      <td>remote.coordination@langchain.com</td>\n",
       "      <td>[URGENT] Critical System Outage - Remote Work ...</td>\n",
       "      <td>respond</td>\n",
       "    </tr>\n",
       "    <tr>\n",
       "      <th>3</th>\n",
       "      <td>Hi team,\\n\\nI've identified some concerning in...</td>\n",
       "      <td>sarah.tech@langchain.dev</td>\n",
       "      <td>Need team discussion: Inconsistencies in API d...</td>\n",
       "      <td>notify</td>\n",
       "    </tr>\n",
       "    <tr>\n",
       "      <th>4</th>\n",
       "      <td>Hey there GAME-CHANGER! 🌟\\n\\nI couldn't sleep ...</td>\n",
       "      <td>visionary.founder@techdreams.io</td>\n",
       "      <td>🚀 REVOLUTIONARY AI-POWERED BLOCKCHAIN OPPORTUN...</td>\n",
       "      <td>ignore</td>\n",
       "    </tr>\n",
       "    <tr>\n",
       "      <th>...</th>\n",
       "      <td>...</td>\n",
       "      <td>...</td>\n",
       "      <td>...</td>\n",
       "      <td>...</td>\n",
       "    </tr>\n",
       "    <tr>\n",
       "      <th>95</th>\n",
       "      <td>Hi Security and Engineering teams,\\n\\nI need t...</td>\n",
       "      <td>sarah.chen@langchain.com</td>\n",
       "      <td>Urgent: Security Vulnerability Found in User A...</td>\n",
       "      <td>respond</td>\n",
       "    </tr>\n",
       "    <tr>\n",
       "      <th>96</th>\n",
       "      <td>Hey team! \\n\\nHope everyone's having a fantast...</td>\n",
       "      <td>Sarah Martinez, Marketing Director</td>\n",
       "      <td>URGENT: Campaign Assets Needed for Tomorrow's ...</td>\n",
       "      <td>respond</td>\n",
       "    </tr>\n",
       "    <tr>\n",
       "      <th>97</th>\n",
       "      <td>Hey team! 👋\\n\\nJust dropping a quick note to l...</td>\n",
       "      <td>jamie.social@langchain.com</td>\n",
       "      <td>FYI - Just wrapped our latest TikTok campaign 🚀</td>\n",
       "      <td>ignore</td>\n",
       "    </tr>\n",
       "    <tr>\n",
       "      <th>98</th>\n",
       "      <td>Hi James,\\n\\nI hope this email finds you well....</td>\n",
       "      <td>sarah.matthews@techsales.com</td>\n",
       "      <td>Urgent: Account Security Verification Required</td>\n",
       "      <td>respond</td>\n",
       "    </tr>\n",
       "    <tr>\n",
       "      <th>99</th>\n",
       "      <td>Hi team,\\n\\nI hope this email finds you well. ...</td>\n",
       "      <td>jennifer.parker@langchain.hr</td>\n",
       "      <td>Update: Minor System Issue with Time-Off Reque...</td>\n",
       "      <td>notify</td>\n",
       "    </tr>\n",
       "  </tbody>\n",
       "</table>\n",
       "<p>100 rows × 4 columns</p>\n",
       "</div>"
      ],
      "text/plain": [
       "                                                 body  \\\n",
       "0   Dear respected sir/madam,\\n\\nI am writing this...   \n",
       "1   Hi Team,\\n\\nI hope this email finds you well. ...   \n",
       "2   Dear LangChain Team,\\n\\nI hope this email find...   \n",
       "3   Hi team,\\n\\nI've identified some concerning in...   \n",
       "4   Hey there GAME-CHANGER! 🌟\\n\\nI couldn't sleep ...   \n",
       "..                                                ...   \n",
       "95  Hi Security and Engineering teams,\\n\\nI need t...   \n",
       "96  Hey team! \\n\\nHope everyone's having a fantast...   \n",
       "97  Hey team! 👋\\n\\nJust dropping a quick note to l...   \n",
       "98  Hi James,\\n\\nI hope this email finds you well....   \n",
       "99  Hi team,\\n\\nI hope this email finds you well. ...   \n",
       "\n",
       "                                sender  \\\n",
       "0       rajesh.kumar2023@delhi-uni.edu   \n",
       "1             sarah.chen@langchain.com   \n",
       "2    remote.coordination@langchain.com   \n",
       "3             sarah.tech@langchain.dev   \n",
       "4      visionary.founder@techdreams.io   \n",
       "..                                 ...   \n",
       "95            sarah.chen@langchain.com   \n",
       "96  Sarah Martinez, Marketing Director   \n",
       "97          jamie.social@langchain.com   \n",
       "98        sarah.matthews@techsales.com   \n",
       "99        jennifer.parker@langchain.hr   \n",
       "\n",
       "                                              subject   action  \n",
       "0      URGENT!!! Website is not working since 2 hours  respond  \n",
       "1   [Non-Urgent] System Issue: Calendar Sync Delay...   notify  \n",
       "2   [URGENT] Critical System Outage - Remote Work ...  respond  \n",
       "3   Need team discussion: Inconsistencies in API d...   notify  \n",
       "4   🚀 REVOLUTIONARY AI-POWERED BLOCKCHAIN OPPORTUN...   ignore  \n",
       "..                                                ...      ...  \n",
       "95  Urgent: Security Vulnerability Found in User A...  respond  \n",
       "96  URGENT: Campaign Assets Needed for Tomorrow's ...  respond  \n",
       "97    FYI - Just wrapped our latest TikTok campaign 🚀   ignore  \n",
       "98     Urgent: Account Security Verification Required  respond  \n",
       "99  Update: Minor System Issue with Time-Off Reque...   notify  \n",
       "\n",
       "[100 rows x 4 columns]"
      ]
     },
     "execution_count": 4,
     "metadata": {},
     "output_type": "execute_result"
    }
   ],
   "source": [
    "df = pd.read_csv(\"./email_cs_simple.csv\")\n",
    "df"
   ]
  },
  {
   "cell_type": "code",
   "execution_count": 10,
   "metadata": {},
   "outputs": [
    {
     "data": {
      "text/plain": [
       "action\n",
       "respond    35\n",
       "notify     35\n",
       "ignore     30\n",
       "Name: count, dtype: int64"
      ]
     },
     "execution_count": 10,
     "metadata": {},
     "output_type": "execute_result"
    }
   ],
   "source": [
    "df.action.value_counts()"
   ]
  },
  {
   "cell_type": "code",
   "execution_count": 6,
   "metadata": {},
   "outputs": [
    {
     "data": {
      "text/plain": [
       "action\n",
       "notify     12\n",
       "ignore      9\n",
       "respond     9\n",
       "Name: count, dtype: int64"
      ]
     },
     "execution_count": 6,
     "metadata": {},
     "output_type": "execute_result"
    }
   ],
   "source": [
    "df[70:].action.value_counts()"
   ]
  },
  {
   "cell_type": "code",
   "execution_count": 8,
   "metadata": {},
   "outputs": [
    {
     "data": {
      "text/plain": [
       "action\n",
       "respond    12\n",
       "notify     11\n",
       "ignore      7\n",
       "Name: count, dtype: int64"
      ]
     },
     "execution_count": 8,
     "metadata": {},
     "output_type": "execute_result"
    }
   ],
   "source": [
    "df[0:30].action.value_counts()"
   ]
  },
  {
   "cell_type": "code",
   "execution_count": 9,
   "metadata": {},
   "outputs": [
    {
     "data": {
      "text/plain": [
       "action\n",
       "respond    9\n",
       "notify     6\n",
       "ignore     5\n",
       "Name: count, dtype: int64"
      ]
     },
     "execution_count": 9,
     "metadata": {},
     "output_type": "execute_result"
    }
   ],
   "source": [
    "df[30:50].action.value_counts()"
   ]
  },
  {
   "cell_type": "code",
   "execution_count": null,
   "metadata": {},
   "outputs": [],
   "source": []
  }
 ],
 "metadata": {
  "kernelspec": {
   "display_name": "promptim_env",
   "language": "python",
   "name": "python3"
  },
  "language_info": {
   "codemirror_mode": {
    "name": "ipython",
    "version": 3
   },
   "file_extension": ".py",
   "mimetype": "text/x-python",
   "name": "python",
   "nbconvert_exporter": "python",
   "pygments_lexer": "ipython3",
   "version": "3.12.9"
  }
 },
 "nbformat": 4,
 "nbformat_minor": 2
}
